{
 "cells": [
  {
   "cell_type": "code",
   "execution_count": 1,
   "metadata": {
    "_cell_guid": "d5d9eee2-3d2f-80d6-9cb0-3f22040639af"
   },
   "outputs": [
    {
     "name": "stderr",
     "output_type": "stream",
     "text": [
      "/opt/conda/lib/python3.5/site-packages/sklearn/cross_validation.py:43: DeprecationWarning: This module was deprecated in version 0.18 in favor of the model_selection module into which all the refactored classes and functions are moved. Also note that the interface of the new CV iterators are different from that of this module. This module will be removed in 0.20.\n",
      "  \"This module will be removed in 0.20.\", DeprecationWarning)\n"
     ]
    }
   ],
   "source": [
    "import pandas as pd\n",
    "import numpy as np\n",
    "\n",
    "import xgboost as xgb\n",
    "from sklearn.cross_validation import cross_val_score\n",
    "from sklearn.metrics import log_loss\n",
    "from sklearn.preprocessing import LabelBinarizer"
   ]
  },
  {
   "cell_type": "markdown",
   "metadata": {
    "_cell_guid": "5db9a5ea-452d-2360-e557-a66c4c6a0350"
   },
   "source": [
    "## Load datasets"
   ]
  },
  {
   "cell_type": "code",
   "execution_count": 2,
   "metadata": {
    "_cell_guid": "5a32046f-3966-5e48-78a7-b0604eb46228"
   },
   "outputs": [],
   "source": [
    "train = pd.read_csv(\"../input/train.csv\")\n",
    "test = pd.read_csv(\"../input/test.csv\")"
   ]
  },
  {
   "cell_type": "code",
   "execution_count": 3,
   "metadata": {
    "_cell_guid": "444e5744-f729-e5c0-1e9d-c7cd8f998a96"
   },
   "outputs": [
    {
     "data": {
      "text/html": [
       "<div>\n",
       "<table border=\"1\" class=\"dataframe\">\n",
       "  <thead>\n",
       "    <tr style=\"text-align: right;\">\n",
       "      <th></th>\n",
       "      <th>id</th>\n",
       "      <th>species</th>\n",
       "      <th>margin1</th>\n",
       "      <th>margin2</th>\n",
       "      <th>margin3</th>\n",
       "      <th>margin4</th>\n",
       "      <th>margin5</th>\n",
       "      <th>margin6</th>\n",
       "      <th>margin7</th>\n",
       "      <th>margin8</th>\n",
       "      <th>...</th>\n",
       "      <th>texture55</th>\n",
       "      <th>texture56</th>\n",
       "      <th>texture57</th>\n",
       "      <th>texture58</th>\n",
       "      <th>texture59</th>\n",
       "      <th>texture60</th>\n",
       "      <th>texture61</th>\n",
       "      <th>texture62</th>\n",
       "      <th>texture63</th>\n",
       "      <th>texture64</th>\n",
       "    </tr>\n",
       "  </thead>\n",
       "  <tbody>\n",
       "    <tr>\n",
       "      <th>0</th>\n",
       "      <td>1</td>\n",
       "      <td>Acer_Opalus</td>\n",
       "      <td>0.007812</td>\n",
       "      <td>0.023438</td>\n",
       "      <td>0.023438</td>\n",
       "      <td>0.003906</td>\n",
       "      <td>0.011719</td>\n",
       "      <td>0.009766</td>\n",
       "      <td>0.027344</td>\n",
       "      <td>0.0</td>\n",
       "      <td>...</td>\n",
       "      <td>0.007812</td>\n",
       "      <td>0.000000</td>\n",
       "      <td>0.002930</td>\n",
       "      <td>0.002930</td>\n",
       "      <td>0.035156</td>\n",
       "      <td>0.0</td>\n",
       "      <td>0.0</td>\n",
       "      <td>0.004883</td>\n",
       "      <td>0.000000</td>\n",
       "      <td>0.025391</td>\n",
       "    </tr>\n",
       "    <tr>\n",
       "      <th>1</th>\n",
       "      <td>2</td>\n",
       "      <td>Pterocarya_Stenoptera</td>\n",
       "      <td>0.005859</td>\n",
       "      <td>0.000000</td>\n",
       "      <td>0.031250</td>\n",
       "      <td>0.015625</td>\n",
       "      <td>0.025391</td>\n",
       "      <td>0.001953</td>\n",
       "      <td>0.019531</td>\n",
       "      <td>0.0</td>\n",
       "      <td>...</td>\n",
       "      <td>0.000977</td>\n",
       "      <td>0.000000</td>\n",
       "      <td>0.000000</td>\n",
       "      <td>0.000977</td>\n",
       "      <td>0.023438</td>\n",
       "      <td>0.0</td>\n",
       "      <td>0.0</td>\n",
       "      <td>0.000977</td>\n",
       "      <td>0.039062</td>\n",
       "      <td>0.022461</td>\n",
       "    </tr>\n",
       "    <tr>\n",
       "      <th>2</th>\n",
       "      <td>3</td>\n",
       "      <td>Quercus_Hartwissiana</td>\n",
       "      <td>0.005859</td>\n",
       "      <td>0.009766</td>\n",
       "      <td>0.019531</td>\n",
       "      <td>0.007812</td>\n",
       "      <td>0.003906</td>\n",
       "      <td>0.005859</td>\n",
       "      <td>0.068359</td>\n",
       "      <td>0.0</td>\n",
       "      <td>...</td>\n",
       "      <td>0.154300</td>\n",
       "      <td>0.000000</td>\n",
       "      <td>0.005859</td>\n",
       "      <td>0.000977</td>\n",
       "      <td>0.007812</td>\n",
       "      <td>0.0</td>\n",
       "      <td>0.0</td>\n",
       "      <td>0.000000</td>\n",
       "      <td>0.020508</td>\n",
       "      <td>0.002930</td>\n",
       "    </tr>\n",
       "    <tr>\n",
       "      <th>3</th>\n",
       "      <td>5</td>\n",
       "      <td>Tilia_Tomentosa</td>\n",
       "      <td>0.000000</td>\n",
       "      <td>0.003906</td>\n",
       "      <td>0.023438</td>\n",
       "      <td>0.005859</td>\n",
       "      <td>0.021484</td>\n",
       "      <td>0.019531</td>\n",
       "      <td>0.023438</td>\n",
       "      <td>0.0</td>\n",
       "      <td>...</td>\n",
       "      <td>0.000000</td>\n",
       "      <td>0.000977</td>\n",
       "      <td>0.000000</td>\n",
       "      <td>0.000000</td>\n",
       "      <td>0.020508</td>\n",
       "      <td>0.0</td>\n",
       "      <td>0.0</td>\n",
       "      <td>0.017578</td>\n",
       "      <td>0.000000</td>\n",
       "      <td>0.047852</td>\n",
       "    </tr>\n",
       "    <tr>\n",
       "      <th>4</th>\n",
       "      <td>6</td>\n",
       "      <td>Quercus_Variabilis</td>\n",
       "      <td>0.005859</td>\n",
       "      <td>0.003906</td>\n",
       "      <td>0.048828</td>\n",
       "      <td>0.009766</td>\n",
       "      <td>0.013672</td>\n",
       "      <td>0.015625</td>\n",
       "      <td>0.005859</td>\n",
       "      <td>0.0</td>\n",
       "      <td>...</td>\n",
       "      <td>0.096680</td>\n",
       "      <td>0.000000</td>\n",
       "      <td>0.021484</td>\n",
       "      <td>0.000000</td>\n",
       "      <td>0.000000</td>\n",
       "      <td>0.0</td>\n",
       "      <td>0.0</td>\n",
       "      <td>0.000000</td>\n",
       "      <td>0.000000</td>\n",
       "      <td>0.031250</td>\n",
       "    </tr>\n",
       "  </tbody>\n",
       "</table>\n",
       "<p>5 rows × 194 columns</p>\n",
       "</div>"
      ],
      "text/plain": [
       "   id                species   margin1   margin2   margin3   margin4  \\\n",
       "0   1            Acer_Opalus  0.007812  0.023438  0.023438  0.003906   \n",
       "1   2  Pterocarya_Stenoptera  0.005859  0.000000  0.031250  0.015625   \n",
       "2   3   Quercus_Hartwissiana  0.005859  0.009766  0.019531  0.007812   \n",
       "3   5        Tilia_Tomentosa  0.000000  0.003906  0.023438  0.005859   \n",
       "4   6     Quercus_Variabilis  0.005859  0.003906  0.048828  0.009766   \n",
       "\n",
       "    margin5   margin6   margin7  margin8    ...      texture55  texture56  \\\n",
       "0  0.011719  0.009766  0.027344      0.0    ...       0.007812   0.000000   \n",
       "1  0.025391  0.001953  0.019531      0.0    ...       0.000977   0.000000   \n",
       "2  0.003906  0.005859  0.068359      0.0    ...       0.154300   0.000000   \n",
       "3  0.021484  0.019531  0.023438      0.0    ...       0.000000   0.000977   \n",
       "4  0.013672  0.015625  0.005859      0.0    ...       0.096680   0.000000   \n",
       "\n",
       "   texture57  texture58  texture59  texture60  texture61  texture62  \\\n",
       "0   0.002930   0.002930   0.035156        0.0        0.0   0.004883   \n",
       "1   0.000000   0.000977   0.023438        0.0        0.0   0.000977   \n",
       "2   0.005859   0.000977   0.007812        0.0        0.0   0.000000   \n",
       "3   0.000000   0.000000   0.020508        0.0        0.0   0.017578   \n",
       "4   0.021484   0.000000   0.000000        0.0        0.0   0.000000   \n",
       "\n",
       "   texture63  texture64  \n",
       "0   0.000000   0.025391  \n",
       "1   0.039062   0.022461  \n",
       "2   0.020508   0.002930  \n",
       "3   0.000000   0.047852  \n",
       "4   0.000000   0.031250  \n",
       "\n",
       "[5 rows x 194 columns]"
      ]
     },
     "execution_count": 3,
     "metadata": {},
     "output_type": "execute_result"
    }
   ],
   "source": [
    "train.head()"
   ]
  },
  {
   "cell_type": "markdown",
   "metadata": {
    "_cell_guid": "d4bec7c6-02ce-9022-9c7e-3e8c514032d8"
   },
   "source": [
    "## Prepare data"
   ]
  },
  {
   "cell_type": "code",
   "execution_count": 4,
   "metadata": {
    "_cell_guid": "52d4c804-14ac-13da-dc4b-d4c5b003decc"
   },
   "outputs": [],
   "source": [
    "Y_train = train['species']\n",
    "id_train = train['id']\n",
    "X_train = train.drop(['species', 'id'], axis=1)\n",
    "classes = np.unique(Y_train)\n",
    "Y_train_bin = LabelBinarizer().fit_transform(Y_train)\n",
    "\n",
    "id_test = test['id']\n",
    "X_test = test.drop(['id'], axis=1)"
   ]
  },
  {
   "cell_type": "code",
   "execution_count": 5,
   "metadata": {
    "_cell_guid": "d1c5271b-21ff-90b5-5b2e-a3e13f684b4b"
   },
   "outputs": [
    {
     "name": "stdout",
     "output_type": "stream",
     "text": [
      "['Acer_Capillipes' 'Acer_Circinatum' 'Acer_Mono' 'Acer_Opalus'\n",
      " 'Acer_Palmatum' 'Acer_Pictum' 'Acer_Platanoids' 'Acer_Rubrum'\n",
      " 'Acer_Rufinerve' 'Acer_Saccharinum' 'Alnus_Cordata' 'Alnus_Maximowiczii'\n",
      " 'Alnus_Rubra' 'Alnus_Sieboldiana' 'Alnus_Viridis' 'Arundinaria_Simonii'\n",
      " 'Betula_Austrosinensis' 'Betula_Pendula' 'Callicarpa_Bodinieri'\n",
      " 'Castanea_Sativa' 'Celtis_Koraiensis' 'Cercis_Siliquastrum'\n",
      " 'Cornus_Chinensis' 'Cornus_Controversa' 'Cornus_Macrophylla'\n",
      " 'Cotinus_Coggygria' 'Crataegus_Monogyna' 'Cytisus_Battandieri'\n",
      " 'Eucalyptus_Glaucescens' 'Eucalyptus_Neglecta' 'Eucalyptus_Urnigera'\n",
      " 'Fagus_Sylvatica' 'Ginkgo_Biloba' 'Ilex_Aquifolium' 'Ilex_Cornuta'\n",
      " 'Liquidambar_Styraciflua' 'Liriodendron_Tulipifera'\n",
      " 'Lithocarpus_Cleistocarpus' 'Lithocarpus_Edulis' 'Magnolia_Heptapeta'\n",
      " 'Magnolia_Salicifolia' 'Morus_Nigra' 'Olea_Europaea' 'Phildelphus'\n",
      " 'Populus_Adenopoda' 'Populus_Grandidentata' 'Populus_Nigra' 'Prunus_Avium'\n",
      " 'Prunus_X_Shmittii' 'Pterocarya_Stenoptera' 'Quercus_Afares'\n",
      " 'Quercus_Agrifolia' 'Quercus_Alnifolia' 'Quercus_Brantii'\n",
      " 'Quercus_Canariensis' 'Quercus_Castaneifolia' 'Quercus_Cerris'\n",
      " 'Quercus_Chrysolepis' 'Quercus_Coccifera' 'Quercus_Coccinea'\n",
      " 'Quercus_Crassifolia' 'Quercus_Crassipes' 'Quercus_Dolicholepis'\n",
      " 'Quercus_Ellipsoidalis' 'Quercus_Greggii' 'Quercus_Hartwissiana'\n",
      " 'Quercus_Ilex' 'Quercus_Imbricaria' 'Quercus_Infectoria_sub'\n",
      " 'Quercus_Kewensis' 'Quercus_Nigra' 'Quercus_Palustris' 'Quercus_Phellos'\n",
      " 'Quercus_Phillyraeoides' 'Quercus_Pontica' 'Quercus_Pubescens'\n",
      " 'Quercus_Pyrenaica' 'Quercus_Rhysophylla' 'Quercus_Rubra'\n",
      " 'Quercus_Semecarpifolia' 'Quercus_Shumardii' 'Quercus_Suber'\n",
      " 'Quercus_Texana' 'Quercus_Trojana' 'Quercus_Variabilis'\n",
      " 'Quercus_Vulcanica' 'Quercus_x_Hispanica' 'Quercus_x_Turneri'\n",
      " 'Rhododendron_x_Russellianum' 'Salix_Fragilis' 'Salix_Intergra'\n",
      " 'Sorbus_Aria' 'Tilia_Oliveri' 'Tilia_Platyphyllos' 'Tilia_Tomentosa'\n",
      " 'Ulmus_Bergmanniana' 'Viburnum_Tinus' 'Viburnum_x_Rhytidophylloides'\n",
      " 'Zelkova_Serrata']\n"
     ]
    }
   ],
   "source": [
    "lb = LabelBinarizer()\n",
    "lb.fit(Y_train)\n",
    "print(lb.classes_)"
   ]
  },
  {
   "cell_type": "code",
   "execution_count": 6,
   "metadata": {
    "_cell_guid": "77eb6fb3-f338-4c63-6120-f13fba6c34ba"
   },
   "outputs": [
    {
     "data": {
      "text/plain": [
       "'Number of unique classes: 99'"
      ]
     },
     "execution_count": 6,
     "metadata": {},
     "output_type": "execute_result"
    }
   ],
   "source": [
    "\"Number of unique classes: {0}\".format(len(classes))"
   ]
  },
  {
   "cell_type": "markdown",
   "metadata": {
    "_cell_guid": "f162190a-9f7a-a6fd-5079-bdb08849d059"
   },
   "source": [
    "## Run XGBoost and save results"
   ]
  },
  {
   "cell_type": "code",
   "execution_count": 7,
   "metadata": {
    "_cell_guid": "fc7a4d45-6b4a-b3f3-08f4-e05d9687a995"
   },
   "outputs": [],
   "source": [
    "xb = xgb.XGBClassifier(n_estimators=500, objective='multi:softprob')\n",
    "probas = xb.fit(X_train, Y_train).predict_proba(X_test)"
   ]
  },
  {
   "cell_type": "code",
   "execution_count": 8,
   "metadata": {
    "_cell_guid": "612bcb8e-deea-8c0c-3b9b-e26ed701c438"
   },
   "outputs": [],
   "source": [
    "result = pd.DataFrame(index=id_test.values, columns=xb.classes_, data=probas)\n",
    "result.to_csv(\"./xgb_benchmark.csv\", index_label='id')"
   ]
  },
  {
   "cell_type": "code",
   "execution_count": 9,
   "metadata": {
    "_cell_guid": "dbe1a218-dff6-676c-780b-a46b1546a66f"
   },
   "outputs": [
    {
     "name": "stdout",
     "output_type": "stream",
     "text": [
      "id,Acer_Capillipes,Acer_Circinatum,Acer_Mono,Acer_Opalus,Acer_Palmatum,Acer_Pictum,Acer_Platanoids,Acer_Rubrum,Acer_Rufinerve,Acer_Saccharinum,Alnus_Cordata,Alnus_Maximowiczii,Alnus_Rubra,Alnus_Sieboldiana,Alnus_Viridis,Arundinaria_Simonii,Betula_Austrosinensis,Betula_Pendula,Callicarpa_Bodinieri,Castanea_Sativa,Celtis_Koraiensis,Cercis_Siliquastrum,Cornus_Chinensis,Cornus_Controversa,Cornus_Macrophylla,Cotinus_Coggygria,Crataegus_Monogyna,Cytisus_Battandieri,Eucalyptus_Glaucescens,Eucalyptus_Neglecta,Eucalyptus_Urnigera,Fagus_Sylvatica,Ginkgo_Biloba,Ilex_Aquifolium,Ilex_Cornuta,Liquidambar_Styraciflua,Liriodendron_Tulipifera,Lithocarpus_Cleistocarpus,Lithocarpus_Edulis,Magnolia_Heptapeta,Magnolia_Salicifolia,Morus_Nigra,Olea_Europaea,Phildelphus,Populus_Adenopoda,Populus_Grandidentata,Populus_Nigra,Prunus_Avium,Prunus_X_Shmittii,Pterocarya_Stenoptera,Quercus_Afares,Quercus_Agrifolia,Quercus_Alnifolia,Quercus_Brantii,Quercus_Canariensis,Quercus_Castaneifolia,Quercus_Cerris,Quercus_Chrysolepis,Quercus_Coccifera,Quercus_Coccinea,Quercus_Crassifolia,Quercus_Crassipes,Quercus_Dolicholepis,Quercus_Ellipsoidalis,Quercus_Greggii,Quercus_Hartwissiana,Quercus_Ilex,Quercus_Imbricaria,Quercus_Infectoria_sub,Quercus_Kewensis,Quercus_Nigra,Quercus_Palustris,Quercus_Phellos,Quercus_Phillyraeoides,Quercus_Pontica,Quercus_Pubescens,Quercus_Pyrenaica,Quercus_Rhysophylla,Quercus_Rubra,Quercus_Semecarpifolia,Quercus_Shumardii,Quercus_Suber,Quercus_Texana,Quercus_Trojana,Quercus_Variabilis,Quercus_Vulcanica,Quercus_x_Hispanica,Quercus_x_Turneri,Rhododendron_x_Russellianum,Salix_Fragilis,Salix_Intergra,Sorbus_Aria,Tilia_Oliveri,Tilia_Platyphyllos,Tilia_Tomentosa,Ulmus_Bergmanniana,Viburnum_Tinus,Viburnum_x_Rhytidophylloides,Zelkova_Serrata\r\n",
      "4,0.010375164449214935,0.005871596746146679,0.005381245631724596,0.08275853097438812,0.005988143850117922,0.007475768215954304,0.006094064097851515,0.00494123762473464,0.005146669689565897,0.005730957258492708,0.006625382229685783,0.004624580964446068,0.005598318297415972,0.005268429405987263,0.005141716916114092,0.006584831513464451,0.014676511287689209,0.004867819137871265,0.005325307138264179,0.005143124610185623,0.008877618238329887,0.007564948406070471,0.005889330990612507,0.005254191812127829,0.005539693869650364,0.006602451670914888,0.0067901466973125935,0.01058501098304987,0.004836438689380884,0.004980888683348894,0.005418781191110611,0.00977184996008873,0.005667411722242832,0.005174123216420412,0.005047240760177374,0.005471988581120968,0.00741247832775116,0.005256665404886007,0.004898408893495798,0.004421423655003309,0.005239683203399181,0.005473651457577944,0.005485571455210447,0.005140314344316721,0.008411225862801075,0.009999061934649944,0.018477963283658028,0.005591921042650938,0.0042589385993778706,0.004393394570797682,0.010447141714394093,0.1605890989303589,0.007121233735233545,0.0071601299569010735,0.004803043324500322,0.007393208332359791,0.013724187389016151,0.005512092262506485,0.010029260069131851,0.004690123256295919,0.005991439335048199,0.005602261517196894,0.004854283295571804,0.004754653666168451,0.047911386936903,0.005344212520867586,0.00574527820572257,0.005331455729901791,0.004275565035641193,0.016635434702038765,0.005121416412293911,0.004592474550008774,0.00704034510999918,0.004710407927632332,0.005650564096868038,0.024309352040290833,0.0053679752163589,0.014494282193481922,0.022512780502438545,0.005201800260692835,0.005425032693892717,0.004327724687755108,0.005719746463000774,0.013004448264837265,0.032065872102975845,0.005227882415056229,0.005005196202546358,0.005074010696262121,0.017110750079154968,0.0056000687181949615,0.011587881483137608,0.005228954367339611,0.004887267015874386,0.005601557902991772,0.005759236868470907,0.004913973156362772,0.004263731185346842,0.015039851889014244,0.0056877052411437035\r\n"
     ]
    }
   ],
   "source": [
    "! head -n 2 xgb_benchmark.csv"
   ]
  },
  {
   "cell_type": "code",
   "execution_count": 10,
   "metadata": {
    "_cell_guid": "0d9e219f-10d8-fef9-f8ff-d45da44d36bf"
   },
   "outputs": [
    {
     "data": {
      "text/plain": [
       "array([ 0.86363636,  0.9040404 ,  0.87373737,  0.87373737,  0.85858586])"
      ]
     },
     "execution_count": 10,
     "metadata": {},
     "output_type": "execute_result"
    }
   ],
   "source": [
    "cross_val_score(xgb.XGBClassifier(n_estimators=100), X_train, Y_train, cv=5)"
   ]
  },
  {
   "cell_type": "code",
   "execution_count": 11,
   "metadata": {
    "_cell_guid": "59038067-301c-9aa9-9ccd-d65ae69d673f"
   },
   "outputs": [],
   "source": [
    ""
   ]
  }
 ],
 "metadata": {
  "_change_revision": 36.0,
  "_is_fork": false,
  "kernelspec": {
   "display_name": "Python 3",
   "language": "python",
   "name": "python3"
  },
  "language_info": {
   "codemirror_mode": {
    "name": "ipython",
    "version": 3.0
   },
   "file_extension": ".py",
   "mimetype": "text/x-python",
   "name": "python",
   "nbconvert_exporter": "python",
   "pygments_lexer": "ipython3",
   "version": "3.5.2"
  }
 },
 "nbformat": 4,
 "nbformat_minor": 0
}